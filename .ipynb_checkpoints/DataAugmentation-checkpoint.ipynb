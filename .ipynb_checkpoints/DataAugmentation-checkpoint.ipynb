{
 "cells": [
  {
   "cell_type": "code",
   "execution_count": 9,
   "id": "2347fb61-d383-4786-9c73-43520fb9baea",
   "metadata": {},
   "outputs": [
    {
     "data": {
      "text/plain": [
       "[PhysicalDevice(name='/physical_device:GPU:0', device_type='GPU')]"
      ]
     },
     "execution_count": 9,
     "metadata": {},
     "output_type": "execute_result"
    }
   ],
   "source": [
    "# Imports\n",
    "import os, warnings\n",
    "import matplotlib.pyplot as plt\n",
    "from matplotlib import gridspec\n",
    "\n",
    "import numpy as np\n",
    "import tensorflow as tf\n",
    "from tensorflow.keras.preprocessing import image_dataset_from_directory\n",
    "tf.config.list_physical_devices('GPU')"
   ]
  },
  {
   "cell_type": "code",
   "execution_count": 10,
   "id": "bcf377d0-37fc-4b12-aab6-77d164351a46",
   "metadata": {},
   "outputs": [],
   "source": [
    "# Reproducability\n",
    "def set_seed(seed=31415):\n",
    "    np.random.seed(seed)\n",
    "    tf.random.set_seed(seed)\n",
    "    os.environ['PYTHONHASHSEED'] = str(seed)\n",
    "    #os.environ['TF_DETERMINISTIC_OPS'] = '1'\n",
    "set_seed()"
   ]
  },
  {
   "cell_type": "code",
   "execution_count": 11,
   "id": "c4b3b5e3-8622-4392-acc1-474f1e76e817",
   "metadata": {},
   "outputs": [],
   "source": [
    "# Set Matplotlib defaults\n",
    "plt.rc('figure', autolayout=True)\n",
    "plt.rc('axes', labelweight='bold', labelsize='large',\n",
    "       titleweight='bold', titlesize=18, titlepad=10)\n",
    "plt.rc('image', cmap='magma')\n",
    "warnings.filterwarnings(\"ignore\") # to clean up output cells"
   ]
  },
  {
   "cell_type": "code",
   "execution_count": 12,
   "id": "6c94cbfa-b319-4060-8472-e07f5f5aa2b9",
   "metadata": {},
   "outputs": [
    {
     "name": "stdout",
     "output_type": "stream",
     "text": [
      "Found 5117 files belonging to 2 classes.\n",
      "Found 5051 files belonging to 2 classes.\n"
     ]
    }
   ],
   "source": [
    "# Load training and validation sets\n",
    "ds_train_ = image_dataset_from_directory(\n",
    "    'Kaggle_Computer_Vision/archive/train',\n",
    "    labels='inferred',\n",
    "    label_mode='binary',\n",
    "    image_size=[128, 128],\n",
    "    interpolation='nearest',\n",
    "    batch_size=64,\n",
    "    shuffle=True,\n",
    ")\n",
    "\n",
    "ds_valid_ = image_dataset_from_directory(\n",
    "    'Kaggle_Computer_Vision/archive/valid',\n",
    "    labels='inferred',\n",
    "    label_mode='binary',\n",
    "    image_size=[128, 128],\n",
    "    interpolation='nearest',\n",
    "    batch_size=64,\n",
    "    shuffle=False,\n",
    ")"
   ]
  },
  {
   "cell_type": "code",
   "execution_count": 13,
   "id": "5818ebac-7d97-4b63-80fe-ea9fa2cb8223",
   "metadata": {},
   "outputs": [],
   "source": [
    "# Data Pipeline\n",
    "def convert_to_float(image, label):\n",
    "    image = tf.image.convert_image_dtype(image, dtype=tf.float32)\n",
    "    return image, label\n",
    "\n",
    "AUTOTUNE = tf.data.experimental.AUTOTUNE\n",
    "ds_train = (\n",
    "    ds_train_\n",
    "    .map(convert_to_float)\n",
    "    .cache()\n",
    "    .prefetch(buffer_size=AUTOTUNE)\n",
    ")\n",
    "ds_valid = (\n",
    "    ds_valid_\n",
    "    .map(convert_to_float)\n",
    "    .cache()\n",
    "    .prefetch(buffer_size=AUTOTUNE)\n",
    ")"
   ]
  },
  {
   "cell_type": "code",
   "execution_count": 14,
   "id": "69b63b34-33b6-444c-8631-0bdc55d705cf",
   "metadata": {},
   "outputs": [
    {
     "name": "stdout",
     "output_type": "stream",
     "text": [
      "WARNING:tensorflow:SavedModel saved prior to TF 2.5 detected when loading Keras model. Please ensure that you are saving the model with model.save() or tf.keras.models.save_model(), *NOT* tf.saved_model.save(). To confirm, there should be a file named \"keras_metadata.pb\" in the SavedModel directory.\n"
     ]
    },
    {
     "name": "stderr",
     "output_type": "stream",
     "text": [
      "WARNING:tensorflow:SavedModel saved prior to TF 2.5 detected when loading Keras model. Please ensure that you are saving the model with model.save() or tf.keras.models.save_model(), *NOT* tf.saved_model.save(). To confirm, there should be a file named \"keras_metadata.pb\" in the SavedModel directory.\n"
     ]
    },
    {
     "name": "stdout",
     "output_type": "stream",
     "text": [
      "WARNING:tensorflow:No training configuration found in save file, so the model was *not* compiled. Compile it manually.\n"
     ]
    },
    {
     "name": "stderr",
     "output_type": "stream",
     "text": [
      "WARNING:tensorflow:No training configuration found in save file, so the model was *not* compiled. Compile it manually.\n"
     ]
    },
    {
     "name": "stdout",
     "output_type": "stream",
     "text": [
      "WARNING:tensorflow:Compiled the loaded model, but the compiled metrics have yet to be built. `model.compile_metrics` will be empty until you train or evaluate the model.\n"
     ]
    },
    {
     "name": "stderr",
     "output_type": "stream",
     "text": [
      "WARNING:tensorflow:Compiled the loaded model, but the compiled metrics have yet to be built. `model.compile_metrics` will be empty until you train or evaluate the model.\n",
      "WARNING:absl:Found untraced functions such as _jit_compiled_convolution_op, _jit_compiled_convolution_op, _jit_compiled_convolution_op, _jit_compiled_convolution_op, _jit_compiled_convolution_op while saving (showing 5 of 13). These functions will not be directly callable after loading.\n"
     ]
    },
    {
     "name": "stdout",
     "output_type": "stream",
     "text": [
      "INFO:tensorflow:Assets written to: Kaggle_Computer_Vision/savings\\assets\n"
     ]
    },
    {
     "name": "stderr",
     "output_type": "stream",
     "text": [
      "INFO:tensorflow:Assets written to: Kaggle_Computer_Vision/savings\\assets\n"
     ]
    }
   ],
   "source": [
    "from tensorflow import keras\n",
    "from tensorflow.keras import layers\n",
    "from tensorflow.keras.layers.experimental import preprocessing\n",
    "\n",
    "\n",
    "pretrained_base = tf.keras.models.load_model(\n",
    "    'Kaggle_Computer_Vision/cv-course-models/vgg16-pretrained-base',\n",
    ")\n",
    "pretrained_base.save(\"Kaggle_Computer_Vision/savings\")  # Use model.save()\n",
    "pretrained_base.trainable = False\n",
    "\n",
    "model = keras.Sequential([\n",
    "    # Preprocessing\n",
    "    preprocessing.RandomFlip('horizontal'), # flip left-to-right\n",
    "    preprocessing.RandomContrast(0.5), # contrast change by up to 50%\n",
    "    # Base\n",
    "    pretrained_base,\n",
    "    # Head\n",
    "    layers.Flatten(),\n",
    "    layers.Dense(6, activation='relu'),\n",
    "    layers.Dense(1, activation='sigmoid'),\n",
    "])"
   ]
  },
  {
   "cell_type": "code",
   "execution_count": 15,
   "id": "68bbebe4-231c-446c-a733-80afad417fe5",
   "metadata": {},
   "outputs": [
    {
     "name": "stdout",
     "output_type": "stream",
     "text": [
      "Epoch 1/30\n",
      "WARNING:tensorflow:Using a while_loop for converting RngReadAndSkip cause there is no registered converter for this op.\n"
     ]
    },
    {
     "name": "stderr",
     "output_type": "stream",
     "text": [
      "WARNING:tensorflow:Using a while_loop for converting RngReadAndSkip cause there is no registered converter for this op.\n"
     ]
    },
    {
     "name": "stdout",
     "output_type": "stream",
     "text": [
      "WARNING:tensorflow:Using a while_loop for converting Bitcast cause there is no registered converter for this op.\n"
     ]
    },
    {
     "name": "stderr",
     "output_type": "stream",
     "text": [
      "WARNING:tensorflow:Using a while_loop for converting Bitcast cause there is no registered converter for this op.\n"
     ]
    },
    {
     "name": "stdout",
     "output_type": "stream",
     "text": [
      "WARNING:tensorflow:Using a while_loop for converting Bitcast cause there is no registered converter for this op.\n"
     ]
    },
    {
     "name": "stderr",
     "output_type": "stream",
     "text": [
      "WARNING:tensorflow:Using a while_loop for converting Bitcast cause there is no registered converter for this op.\n"
     ]
    },
    {
     "name": "stdout",
     "output_type": "stream",
     "text": [
      "WARNING:tensorflow:Using a while_loop for converting StatelessRandomUniformFullIntV2 cause there is no registered converter for this op.\n"
     ]
    },
    {
     "name": "stderr",
     "output_type": "stream",
     "text": [
      "WARNING:tensorflow:Using a while_loop for converting StatelessRandomUniformFullIntV2 cause there is no registered converter for this op.\n"
     ]
    },
    {
     "name": "stdout",
     "output_type": "stream",
     "text": [
      "WARNING:tensorflow:Using a while_loop for converting StatelessRandomGetKeyCounter cause there is no registered converter for this op.\n"
     ]
    },
    {
     "name": "stderr",
     "output_type": "stream",
     "text": [
      "WARNING:tensorflow:Using a while_loop for converting StatelessRandomGetKeyCounter cause there is no registered converter for this op.\n"
     ]
    },
    {
     "name": "stdout",
     "output_type": "stream",
     "text": [
      "WARNING:tensorflow:Using a while_loop for converting StatelessRandomUniformV2 cause there is no registered converter for this op.\n"
     ]
    },
    {
     "name": "stderr",
     "output_type": "stream",
     "text": [
      "WARNING:tensorflow:Using a while_loop for converting StatelessRandomUniformV2 cause there is no registered converter for this op.\n"
     ]
    },
    {
     "name": "stdout",
     "output_type": "stream",
     "text": [
      "WARNING:tensorflow:Using a while_loop for converting AdjustContrastv2 cause Input \"contrast_factor\" of op 'AdjustContrastv2' expected to be loop invariant.\n"
     ]
    },
    {
     "name": "stderr",
     "output_type": "stream",
     "text": [
      "WARNING:tensorflow:Using a while_loop for converting AdjustContrastv2 cause Input \"contrast_factor\" of op 'AdjustContrastv2' expected to be loop invariant.\n"
     ]
    },
    {
     "name": "stdout",
     "output_type": "stream",
     "text": [
      "WARNING:tensorflow:Using a while_loop for converting RngReadAndSkip cause there is no registered converter for this op.\n"
     ]
    },
    {
     "name": "stderr",
     "output_type": "stream",
     "text": [
      "WARNING:tensorflow:Using a while_loop for converting RngReadAndSkip cause there is no registered converter for this op.\n"
     ]
    },
    {
     "name": "stdout",
     "output_type": "stream",
     "text": [
      "WARNING:tensorflow:Using a while_loop for converting Bitcast cause there is no registered converter for this op.\n"
     ]
    },
    {
     "name": "stderr",
     "output_type": "stream",
     "text": [
      "WARNING:tensorflow:Using a while_loop for converting Bitcast cause there is no registered converter for this op.\n"
     ]
    },
    {
     "name": "stdout",
     "output_type": "stream",
     "text": [
      "WARNING:tensorflow:Using a while_loop for converting Bitcast cause there is no registered converter for this op.\n"
     ]
    },
    {
     "name": "stderr",
     "output_type": "stream",
     "text": [
      "WARNING:tensorflow:Using a while_loop for converting Bitcast cause there is no registered converter for this op.\n"
     ]
    },
    {
     "name": "stdout",
     "output_type": "stream",
     "text": [
      "WARNING:tensorflow:Using a while_loop for converting StatelessRandomUniformFullIntV2 cause there is no registered converter for this op.\n"
     ]
    },
    {
     "name": "stderr",
     "output_type": "stream",
     "text": [
      "WARNING:tensorflow:Using a while_loop for converting StatelessRandomUniformFullIntV2 cause there is no registered converter for this op.\n"
     ]
    },
    {
     "name": "stdout",
     "output_type": "stream",
     "text": [
      "WARNING:tensorflow:Using a while_loop for converting StatelessRandomGetKeyCounter cause there is no registered converter for this op.\n"
     ]
    },
    {
     "name": "stderr",
     "output_type": "stream",
     "text": [
      "WARNING:tensorflow:Using a while_loop for converting StatelessRandomGetKeyCounter cause there is no registered converter for this op.\n"
     ]
    },
    {
     "name": "stdout",
     "output_type": "stream",
     "text": [
      "WARNING:tensorflow:Using a while_loop for converting StatelessRandomUniformV2 cause there is no registered converter for this op.\n"
     ]
    },
    {
     "name": "stderr",
     "output_type": "stream",
     "text": [
      "WARNING:tensorflow:Using a while_loop for converting StatelessRandomUniformV2 cause there is no registered converter for this op.\n"
     ]
    },
    {
     "name": "stdout",
     "output_type": "stream",
     "text": [
      "WARNING:tensorflow:Using a while_loop for converting AdjustContrastv2 cause Input \"contrast_factor\" of op 'AdjustContrastv2' expected to be loop invariant.\n"
     ]
    },
    {
     "name": "stderr",
     "output_type": "stream",
     "text": [
      "WARNING:tensorflow:Using a while_loop for converting AdjustContrastv2 cause Input \"contrast_factor\" of op 'AdjustContrastv2' expected to be loop invariant.\n"
     ]
    },
    {
     "name": "stdout",
     "output_type": "stream",
     "text": [
      "WARNING:tensorflow:Using a while_loop for converting RngReadAndSkip cause there is no registered converter for this op.\n"
     ]
    },
    {
     "name": "stderr",
     "output_type": "stream",
     "text": [
      "WARNING:tensorflow:Using a while_loop for converting RngReadAndSkip cause there is no registered converter for this op.\n"
     ]
    },
    {
     "name": "stdout",
     "output_type": "stream",
     "text": [
      "WARNING:tensorflow:Using a while_loop for converting Bitcast cause there is no registered converter for this op.\n"
     ]
    },
    {
     "name": "stderr",
     "output_type": "stream",
     "text": [
      "WARNING:tensorflow:Using a while_loop for converting Bitcast cause there is no registered converter for this op.\n"
     ]
    },
    {
     "name": "stdout",
     "output_type": "stream",
     "text": [
      "WARNING:tensorflow:Using a while_loop for converting Bitcast cause there is no registered converter for this op.\n"
     ]
    },
    {
     "name": "stderr",
     "output_type": "stream",
     "text": [
      "WARNING:tensorflow:Using a while_loop for converting Bitcast cause there is no registered converter for this op.\n"
     ]
    },
    {
     "name": "stdout",
     "output_type": "stream",
     "text": [
      "WARNING:tensorflow:Using a while_loop for converting StatelessRandomUniformFullIntV2 cause there is no registered converter for this op.\n"
     ]
    },
    {
     "name": "stderr",
     "output_type": "stream",
     "text": [
      "WARNING:tensorflow:Using a while_loop for converting StatelessRandomUniformFullIntV2 cause there is no registered converter for this op.\n"
     ]
    },
    {
     "name": "stdout",
     "output_type": "stream",
     "text": [
      "WARNING:tensorflow:Using a while_loop for converting StatelessRandomGetKeyCounter cause there is no registered converter for this op.\n"
     ]
    },
    {
     "name": "stderr",
     "output_type": "stream",
     "text": [
      "WARNING:tensorflow:Using a while_loop for converting StatelessRandomGetKeyCounter cause there is no registered converter for this op.\n"
     ]
    },
    {
     "name": "stdout",
     "output_type": "stream",
     "text": [
      "WARNING:tensorflow:Using a while_loop for converting StatelessRandomUniformV2 cause there is no registered converter for this op.\n"
     ]
    },
    {
     "name": "stderr",
     "output_type": "stream",
     "text": [
      "WARNING:tensorflow:Using a while_loop for converting StatelessRandomUniformV2 cause there is no registered converter for this op.\n"
     ]
    },
    {
     "name": "stdout",
     "output_type": "stream",
     "text": [
      "WARNING:tensorflow:Using a while_loop for converting AdjustContrastv2 cause Input \"contrast_factor\" of op 'AdjustContrastv2' expected to be loop invariant.\n"
     ]
    },
    {
     "name": "stderr",
     "output_type": "stream",
     "text": [
      "WARNING:tensorflow:Using a while_loop for converting AdjustContrastv2 cause Input \"contrast_factor\" of op 'AdjustContrastv2' expected to be loop invariant.\n"
     ]
    },
    {
     "name": "stdout",
     "output_type": "stream",
     "text": [
      "80/80 [==============================] - 141s 2s/step - loss: 0.5429 - binary_accuracy: 0.7139 - val_loss: 0.4122 - val_binary_accuracy: 0.8293\n",
      "Epoch 2/30\n",
      "80/80 [==============================] - 108s 1s/step - loss: 0.3922 - binary_accuracy: 0.8272 - val_loss: 0.3636 - val_binary_accuracy: 0.8476\n",
      "Epoch 3/30\n",
      "80/80 [==============================] - 110s 1s/step - loss: 0.3451 - binary_accuracy: 0.8597 - val_loss: 0.3382 - val_binary_accuracy: 0.8577\n",
      "Epoch 4/30\n",
      "80/80 [==============================] - 114s 1s/step - loss: 0.3162 - binary_accuracy: 0.8736 - val_loss: 0.3234 - val_binary_accuracy: 0.8644\n",
      "Epoch 5/30\n",
      "80/80 [==============================] - 109s 1s/step - loss: 0.2885 - binary_accuracy: 0.8837 - val_loss: 0.3156 - val_binary_accuracy: 0.8687\n",
      "Epoch 6/30\n",
      "80/80 [==============================] - 111s 1s/step - loss: 0.2698 - binary_accuracy: 0.8939 - val_loss: 0.3106 - val_binary_accuracy: 0.8693\n",
      "Epoch 7/30\n",
      "80/80 [==============================] - 123s 2s/step - loss: 0.2479 - binary_accuracy: 0.9037 - val_loss: 0.3050 - val_binary_accuracy: 0.8727\n",
      "Epoch 8/30\n",
      "80/80 [==============================] - 125s 2s/step - loss: 0.2358 - binary_accuracy: 0.9095 - val_loss: 0.3051 - val_binary_accuracy: 0.8717\n",
      "Epoch 9/30\n",
      "80/80 [==============================] - 127s 2s/step - loss: 0.2196 - binary_accuracy: 0.9191 - val_loss: 0.3022 - val_binary_accuracy: 0.8741\n",
      "Epoch 10/30\n",
      "80/80 [==============================] - 122s 2s/step - loss: 0.2143 - binary_accuracy: 0.9197 - val_loss: 0.3022 - val_binary_accuracy: 0.8747\n",
      "Epoch 11/30\n",
      "80/80 [==============================] - 112s 1s/step - loss: 0.1991 - binary_accuracy: 0.9296 - val_loss: 0.3038 - val_binary_accuracy: 0.8763\n",
      "Epoch 12/30\n",
      "80/80 [==============================] - 110s 1s/step - loss: 0.1897 - binary_accuracy: 0.9308 - val_loss: 0.3105 - val_binary_accuracy: 0.8733\n",
      "Epoch 13/30\n",
      "80/80 [==============================] - 109s 1s/step - loss: 0.1853 - binary_accuracy: 0.9300 - val_loss: 0.3060 - val_binary_accuracy: 0.8755\n",
      "Epoch 14/30\n",
      "80/80 [==============================] - 110s 1s/step - loss: 0.1790 - binary_accuracy: 0.9369 - val_loss: 0.3088 - val_binary_accuracy: 0.8767\n",
      "Epoch 15/30\n",
      "80/80 [==============================] - 109s 1s/step - loss: 0.1663 - binary_accuracy: 0.9394 - val_loss: 0.3110 - val_binary_accuracy: 0.8753\n",
      "Epoch 16/30\n",
      "80/80 [==============================] - 109s 1s/step - loss: 0.1653 - binary_accuracy: 0.9379 - val_loss: 0.3152 - val_binary_accuracy: 0.8723\n",
      "Epoch 17/30\n",
      "80/80 [==============================] - 106s 1s/step - loss: 0.1536 - binary_accuracy: 0.9443 - val_loss: 0.3410 - val_binary_accuracy: 0.8630\n",
      "Epoch 18/30\n",
      "80/80 [==============================] - 109s 1s/step - loss: 0.1632 - binary_accuracy: 0.9369 - val_loss: 0.4429 - val_binary_accuracy: 0.8256\n",
      "Epoch 19/30\n",
      "80/80 [==============================] - 109s 1s/step - loss: 0.1628 - binary_accuracy: 0.9361 - val_loss: 0.4432 - val_binary_accuracy: 0.8228\n",
      "Epoch 20/30\n",
      "80/80 [==============================] - 106s 1s/step - loss: 0.1693 - binary_accuracy: 0.9304 - val_loss: 0.4109 - val_binary_accuracy: 0.8384\n",
      "Epoch 21/30\n",
      "80/80 [==============================] - 109s 1s/step - loss: 0.1851 - binary_accuracy: 0.9224 - val_loss: 0.3336 - val_binary_accuracy: 0.8749\n",
      "Epoch 22/30\n",
      "80/80 [==============================] - 110s 1s/step - loss: 0.1707 - binary_accuracy: 0.9255 - val_loss: 0.3945 - val_binary_accuracy: 0.8571\n",
      "Epoch 23/30\n",
      "80/80 [==============================] - 116s 1s/step - loss: 0.1486 - binary_accuracy: 0.9394 - val_loss: 0.3756 - val_binary_accuracy: 0.8654\n",
      "Epoch 24/30\n",
      "80/80 [==============================] - 117s 1s/step - loss: 0.1200 - binary_accuracy: 0.9564 - val_loss: 0.3804 - val_binary_accuracy: 0.8614\n",
      "Epoch 25/30\n",
      "80/80 [==============================] - 111s 1s/step - loss: 0.1100 - binary_accuracy: 0.9631 - val_loss: 0.3871 - val_binary_accuracy: 0.8598\n",
      "Epoch 26/30\n",
      "80/80 [==============================] - 112s 1s/step - loss: 0.1088 - binary_accuracy: 0.9656 - val_loss: 0.3891 - val_binary_accuracy: 0.8580\n",
      "Epoch 27/30\n",
      "80/80 [==============================] - 112s 1s/step - loss: 0.1017 - binary_accuracy: 0.9660 - val_loss: 0.4215 - val_binary_accuracy: 0.8525\n",
      "Epoch 28/30\n",
      "80/80 [==============================] - 111s 1s/step - loss: 0.1059 - binary_accuracy: 0.9629 - val_loss: 0.4290 - val_binary_accuracy: 0.8491\n",
      "Epoch 29/30\n",
      "80/80 [==============================] - 110s 1s/step - loss: 0.0902 - binary_accuracy: 0.9728 - val_loss: 0.4286 - val_binary_accuracy: 0.8511\n",
      "Epoch 30/30\n",
      "80/80 [==============================] - 109s 1s/step - loss: 0.0869 - binary_accuracy: 0.9724 - val_loss: 0.4291 - val_binary_accuracy: 0.8503\n"
     ]
    }
   ],
   "source": [
    "model.compile(\n",
    "    optimizer='adam',\n",
    "    loss='binary_crossentropy',\n",
    "    metrics=['binary_accuracy'],\n",
    ")\n",
    "\n",
    "history = model.fit(\n",
    "    ds_train,\n",
    "    validation_data=ds_valid,\n",
    "    epochs=30,\n",
    "    verbose=1,\n",
    ")"
   ]
  },
  {
   "cell_type": "code",
   "execution_count": 16,
   "id": "85a38936-061f-4aed-9952-1295fe12bc59",
   "metadata": {},
   "outputs": [
    {
     "data": {
      "image/png": "[encoded data removed]",
      "text/plain": [
       "<Figure size 640x480 with 1 Axes>"
      ]
     },
     "metadata": {},
     "output_type": "display_data"
    },
    {
     "data": {
      "image/png": "[encoded data removed]",
      "text/plain": [
       "<Figure size 640x480 with 1 Axes>"
      ]
     },
     "metadata": {},
     "output_type": "display_data"
    }
   ],
   "source": [
    "import pandas as pd\n",
    "\n",
    "history_frame = pd.DataFrame(history.history)\n",
    "\n",
    "history_frame.loc[:, ['loss', 'val_loss']].plot()\n",
    "history_frame.loc[:, ['binary_accuracy', 'val_binary_accuracy']].plot();"
   ]
  },
  {
   "cell_type": "code",
   "execution_count": null,
   "id": "912a5de6-c5fa-46cf-88e1-4d883cb47dda",
   "metadata": {},
   "outputs": [],
   "source": []
  }
 ],
 "metadata": {
  "kernelspec": {
   "display_name": "Python 3.9 (tf4)",
   "language": "python",
   "name": "tensorflowv4"
  },
  "language_info": {
   "codemirror_mode": {
    "name": "ipython",
    "version": 3
   },
   "file_extension": ".py",
   "mimetype": "text/x-python",
   "name": "python",
   "nbconvert_exporter": "python",
   "pygments_lexer": "ipython3",
   "version": "3.9.18"
  }
 },
 "nbformat": 4,
 "nbformat_minor": 5
}
