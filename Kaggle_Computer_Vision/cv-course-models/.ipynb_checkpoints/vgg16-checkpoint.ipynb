{
 "cells": [
  {
   "cell_type": "markdown",
   "metadata": {},
   "source": [
    "# VGG 16 #"
   ]
  },
  {
   "cell_type": "code",
   "execution_count": null,
   "metadata": {},
   "outputs": [],
   "source": [
    "import tensorflow as tf\n",
    "import tensorflow_datasets as tfds\n",
    "import tensorflow.keras as keras\n",
    "import tensorflow.keras.layers as layers"
   ]
  },
  {
   "cell_type": "markdown",
   "metadata": {},
   "source": [
    "## Pretrained Base ##"
   ]
  },
  {
   "cell_type": "code",
   "execution_count": null,
   "metadata": {},
   "outputs": [],
   "source": [
    "# Load training and validation sets\n",
    "DATA_DIR = '/home/jovyan/work/kaggle/datasets'\n",
    "(ds_train_, ds_valid_), ds_info = tfds.load('stanford_cars/simple',\n",
    "                                          split=['train', 'test'],\n",
    "                                          shuffle_files=True,\n",
    "                                          with_info=True,\n",
    "                                          data_dir=DATA_DIR)\n",
    "\n",
    "BATCH_SIZE = 16\n",
    "AUTO = tf.data.experimental.AUTOTUNE\n",
    "SIZE = [192, 192]\n",
    "preprocess = visiontools.make_preprocessor(size=SIZE)\n",
    "\n",
    "augment = visiontools.make_augmentor(horizontal_flip=True,\n",
    "                         brightness_delta=0.05,\n",
    "                         hue_delta=0.2,\n",
    "                         saturation_range=[0.05, 1.15],\n",
    "                         contrast_range=[0.8, 1.2])\n",
    "\n",
    "ds_train = (ds_train_\n",
    "            .map(preprocess, AUTO)\n",
    "            .cache()\n",
    "            .repeat()\n",
    "            # .map(augment, AUTO)\n",
    "            .batch(BATCH_SIZE)\n",
    "            .prefetch(AUTO))\n",
    "\n",
    "ds_valid = (ds_valid_\n",
    "            .map(preprocess, AUTO)\n",
    "            .cache()\n",
    "            .batch(BATCH_SIZE)\n",
    "            .prefetch(AUTO))"
   ]
  },
  {
   "cell_type": "code",
   "execution_count": null,
   "metadata": {},
   "outputs": [],
   "source": []
  }
 ],
 "metadata": {
  "jupytext": {
   "formats": "md,ipynb"
  },
  "kernelspec": {
   "display_name": "Python 3",
   "language": "python",
   "name": "python3"
  },
  "language_info": {
   "codemirror_mode": {
    "name": "ipython",
    "version": 3
   },
   "file_extension": ".py",
   "mimetype": "text/x-python",
   "name": "python",
   "nbconvert_exporter": "python",
   "pygments_lexer": "ipython3",
   "version": "3.7.6"
  }
 },
 "nbformat": 4,
 "nbformat_minor": 4
}
