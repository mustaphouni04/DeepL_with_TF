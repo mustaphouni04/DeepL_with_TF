{
 "cells": [
  {
   "cell_type": "markdown",
   "metadata": {},
   "source": [
    "# Encyclopedia of Course Models #"
   ]
  },
  {
   "cell_type": "code",
   "execution_count": null,
   "metadata": {},
   "outputs": [],
   "source": []
  },
  {
   "cell_type": "code",
   "execution_count": 1,
   "metadata": {},
   "outputs": [],
   "source": [
    "import visiontools\n",
    "import tensorflow as tf\n",
    "import tensorflow_datasets as tfds\n",
    "import pandas as pd"
   ]
  },
  {
   "cell_type": "markdown",
   "metadata": {},
   "source": [
    "# Simple Convnet #"
   ]
  },
  {
   "cell_type": "code",
   "execution_count": null,
   "metadata": {},
   "outputs": [],
   "source": [
    "from tensorflow.keras import Sequential\n",
    "import tensorflow.keras.layers as layers\n",
    "\n",
    "model = Sequential([\n",
    "    layers.Conv2D(filters=64,\n",
    "                  kernel_size=3,\n",
    "                  activation=\"relu\",\n",
    "                  padding='same',\n",
    "                  name=\"block1_conv1\"),\n",
    "    layers.MaxPool2D(name=\"block1_pool\"),\n",
    "    layers.Conv2D(filters=128,\n",
    "                  kernel_size=3,\n",
    "                  activation=\"relu\",\n",
    "                  padding='same',\n",
    "                  name=\"block2_conv1\"),\n",
    "    layers.MaxPool2D(name=\"block2_pool\"),\n",
    "    layers.Conv2D(filters=256,\n",
    "                  kernel_size=3,\n",
    "                  activation=\"relu\",\n",
    "                  padding='same',\n",
    "                  name=\"block3_conv1\"),\n",
    "    layers.MaxPool2D(name=\"block4_pool\"),\n",
    "    layers.Flatten(),\n",
    "    layers.Dense(8, activation=\"relu\"),\n",
    "    layers.Dense(1, activation=\"sigmoid\")\n",
    "])\n",
    "    \n",
    "model.compile(\n",
    "    optimizer=tf.keras.optimizers.Adam(learning_rate=0.0001),\n",
    "    loss='sparse_categorical_crossentropy',\n",
    "    metrics=['accuracy']\n",
    ")"
   ]
  },
  {
   "cell_type": "markdown",
   "metadata": {},
   "source": [
    "# VGG7 #"
   ]
  },
  {
   "cell_type": "code",
   "execution_count": null,
   "metadata": {},
   "outputs": [],
   "source": [
    "from tensorflow.keras import Sequential\n",
    "import tensorflow.keras.layers as layers\n",
    "\n",
    "model = Sequential([\n",
    "    layers.Conv2D(filters=64,\n",
    "                  kernel_size=3,\n",
    "                  activation=\"relu\",\n",
    "                  padding='same',\n",
    "                  name=\"block1_conv1\"),\n",
    "    layers.MaxPool2D(name=\"block1_pool\"),\n",
    "    layers.Conv2D(filters=128,\n",
    "                  kernel_size=3,\n",
    "                  activation=\"relu\",\n",
    "                  padding='same',\n",
    "                  name=\"block2_conv1\"),\n",
    "    layers.MaxPool2D(name=\"block2_pool\"),\n",
    "    layers.Conv2D(filters=256,\n",
    "                  kernel_size=3,\n",
    "                  activation=\"relu\",\n",
    "                  padding='same',\n",
    "                  name=\"block3_conv1\"),\n",
    "    layers.Conv2D(filters=256,\n",
    "                  kernel_size=3,\n",
    "                  activation=\"relu\",\n",
    "                  padding='same',\n",
    "                  name=\"block3_conv2\"),\n",
    "    layers.MaxPool2D(name=\"block3_pool\"),\n",
    "    layers.Conv2D(filters=512,\n",
    "                  kernel_size=3,\n",
    "                  activation=\"relu\",\n",
    "                  padding='same',\n",
    "                  name=\"block4_conv1\"),\n",
    "    layers.Conv2D(filters=512,\n",
    "                  kernel_size=3,\n",
    "                  activation=\"relu\",\n",
    "                  padding='same',\n",
    "                  name=\"block4_conv2\"),\n",
    "    layers.Conv2D(filters=512,\n",
    "                  kernel_size=3,\n",
    "                  activation=\"relu\",\n",
    "                  padding='same',\n",
    "                  name=\"block4_conv3\"),\n",
    "    layers.MaxPool2D(name=\"block4_pool\"),\n",
    "    layers.Flatten(),\n",
    "    layers.Dense(8, activation=\"relu\"),\n",
    "    layers.Dense(1, activation=\"sigmoid\")\n",
    "])"
   ]
  },
  {
   "cell_type": "markdown",
   "metadata": {},
   "source": [
    "# VGG7 - Batch Norm - L2 Weight Reg - Dropout"
   ]
  },
  {
   "cell_type": "code",
   "execution_count": null,
   "metadata": {},
   "outputs": [],
   "source": [
    "import tensorflow.keras.layers as layers\n",
    "\n",
    "NUM_CLASSES = 5\n",
    "\n",
    "model = tf.keras.Sequential([\n",
    "#         layers.Lambda(augment),\n",
    "        layers.Conv2D(64, kernel_size=5, activation=None, input_shape=[192, 192, 3]),\n",
    "        layers.BatchNormalization(),\n",
    "        layers.Activation('relu'),\n",
    "        layers.MaxPool2D(),\n",
    "        layers.Conv2D(128, kernel_size=3, activation=None),\n",
    "        layers.BatchNormalization(),\n",
    "        layers.Activation('relu'),\n",
    "        layers.MaxPool2D(),\n",
    "        layers.Conv2D(256, kernel_size=3, activation='relu'),\n",
    "        layers.Conv2D(256, kernel_size=3, activation=None),\n",
    "        layers.BatchNormalization(),\n",
    "        layers.Activation('relu'),\n",
    "        layers.MaxPool2D(),\n",
    "        layers.Conv2D(512, kernel_size=3, activation='relu',\n",
    "                     kernel_regularizer=tf.keras.regularizers.l2(0.005)),\n",
    "        layers.Conv2D(512, kernel_size=3, activation='relu',\n",
    "                     kernel_regularizer=tf.keras.regularizers.l2(0.005)),\n",
    "        layers.Conv2D(512, kernel_size=3, activation=None,\n",
    "                     kernel_regularizer=tf.keras.regularizers.l2(0.005)),\n",
    "        layers.BatchNormalization(),\n",
    "        layers.Activation('relu'),\n",
    "        layers.MaxPool2D(),\n",
    "        layers.Flatten(),\n",
    "        layers.Dropout(0.50),\n",
    "        layers.Dense(128, \n",
    "                     activation='relu',\n",
    "                     kernel_regularizer=tf.keras.regularizers.l2(0.02),\n",
    "                     ),\n",
    "        layers.Dropout(0.50),\n",
    "        layers.Dense(128, \n",
    "                     activation='relu',\n",
    "                     kernel_regularizer=tf.keras.regularizers.l2(0.08),\n",
    "                     ),\n",
    "        layers.Dense(NUM_CLASSES, activation='softmax')\n",
    "])    \n",
    "model.compile(\n",
    "    optimizer=tf.keras.optimizers.Adam(learning_rate=0.0001),\n",
    "    loss='sparse_categorical_crossentropy',\n",
    "    metrics=['accuracy']\n",
    ")\n",
    "model.save('vgg7-bn-l2-untrained')"
   ]
  }
 ],
 "metadata": {
  "kernelspec": {
   "display_name": "Python 3",
   "language": "python",
   "name": "python3"
  },
  "language_info": {
   "codemirror_mode": {
    "name": "ipython",
    "version": 3
   },
   "file_extension": ".py",
   "mimetype": "text/x-python",
   "name": "python",
   "nbconvert_exporter": "python",
   "pygments_lexer": "ipython3",
   "version": "3.7.6"
  }
 },
 "nbformat": 4,
 "nbformat_minor": 4
}
