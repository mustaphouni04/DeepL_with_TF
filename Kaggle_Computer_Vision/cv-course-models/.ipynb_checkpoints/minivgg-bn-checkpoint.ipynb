{
 "cells": [
  {
   "cell_type": "markdown",
   "metadata": {},
   "source": [
    "# MiniVGG BatchNorm #"
   ]
  },
  {
   "cell_type": "code",
   "execution_count": null,
   "metadata": {},
   "outputs": [],
   "source": [
    "import tensorflow as tf\n",
    "config = tf.compat.v1.ConfigProto()\n",
    "config.gpu_options.allow_growth = True\n",
    "session = tf.compat.v1.InteractiveSession(config=config)"
   ]
  },
  {
   "cell_type": "code",
   "execution_count": null,
   "metadata": {},
   "outputs": [],
   "source": [
    "import visiontools\n",
    "import pandas as pd\n",
    "import tensorflow as tf\n",
    "import tensorflow_datasets as tfds\n",
    "import tensorflow.keras as keras\n",
    "import tensorflow.keras.layers as layers"
   ]
  },
  {
   "cell_type": "markdown",
   "metadata": {},
   "source": [
    "## Untrained ##"
   ]
  },
  {
   "cell_type": "code",
   "execution_count": null,
   "metadata": {},
   "outputs": [],
   "source": [
    "SIZE = [192, 192]\n",
    "\n",
    "model = keras.Sequential([\n",
    "    layers.Conv2D(filters=64,\n",
    "                  kernel_size=3,\n",
    "                  activation=None,\n",
    "                  padding='same',\n",
    "                  name=\"block1_conv1\", input_shape=[*SIZE, 3]),\n",
    "    layers.BatchNormalization(),\n",
    "    layers.Activation('relu')\n",
    "    layers.MaxPool2D(name=\"block1_pool\"),\n",
    "    layers.Conv2D(filters=128,\n",
    "                  kernel_size=3,\n",
    "                  activation=None,\n",
    "                  padding='same',\n",
    "                  name=\"block2_conv1\"),\n",
    "    layers.BatchNormalization(),\n",
    "    layers.Activation('relu')\n",
    "    layers.MaxPool2D(name=\"block2_pool\"),\n",
    "    layers.Conv2D(filters=256,\n",
    "                  kernel_size=3,\n",
    "                  activation=\"relu\",\n",
    "                  padding='same',\n",
    "                  name=\"block3_conv1\"),\n",
    "    layers.Conv2D(filters=256,\n",
    "                  kernel_size=3,\n",
    "                  activation=None,\n",
    "                  padding='same',\n",
    "                  name=\"block3_conv2\"),\n",
    "    layers.BatchNormalization(),\n",
    "    layers.Activation('relu')\n",
    "    layers.MaxPool2D(name=\"block3_pool\"),\n",
    "    layers.Conv2D(filters=512,\n",
    "                  kernel_size=3,\n",
    "                  activation=\"relu\",\n",
    "                  padding='same',\n",
    "                  name=\"block4_conv1\"),\n",
    "    layers.Conv2D(filters=512,\n",
    "                  kernel_size=3,\n",
    "                  activation=\"relu\",\n",
    "                  padding='same',\n",
    "                  name=\"block4_conv2\"),\n",
    "    layers.Conv2D(filters=512,\n",
    "                  kernel_size=3,\n",
    "                  activation=None,\n",
    "                  padding='same',\n",
    "                  name=\"block4_conv3\"),\n",
    "    layers.BatchNormalization(),\n",
    "    layers.Activation('relu')\n",
    "    layers.MaxPool2D(name=\"block4_pool\"),\n",
    "    layers.Flatten(),\n",
    "    layers.Dense(8, activation=\"relu\"),\n",
    "    layers.Dense(1, activation=\"sigmoid\")\n",
    "], name='minivgg')\n",
    "model.compile(\n",
    "    optimizer=tf.keras.optimizers.Adam(learning_rate=0.0001),\n",
    "    loss='binary_crossentropy',\n",
    "    metrics=['binary_accuracy']\n",
    ")\n",
    "model.save('minivgg-untrained')"
   ]
  },
  {
   "cell_type": "markdown",
   "metadata": {},
   "source": [
    "## Pretrained ##"
   ]
  },
  {
   "cell_type": "code",
   "execution_count": null,
   "metadata": {},
   "outputs": [],
   "source": [
    "# Load training and validation sets\n",
    "DATA_DIR = '/home/jovyan/work/kaggle/datasets'\n",
    "(ds_train_, ds_valid_), ds_info = tfds.load('stanford_cars/simple',\n",
    "                                          split=['train', 'test'],\n",
    "                                          shuffle_files=True,\n",
    "                                          with_info=True,\n",
    "                                          data_dir=DATA_DIR)\n",
    "\n",
    "BATCH_SIZE = 16\n",
    "AUTO = tf.data.experimental.AUTOTUNE\n",
    "SIZE = [192, 192]\n",
    "preprocess = visiontools.make_preprocessor(size=SIZE)\n",
    "\n",
    "ds_train = (ds_train_\n",
    "            .map(preprocess, AUTO)\n",
    "            .cache()\n",
    "            .repeat()\n",
    "            .shuffle(ds_info.splits['train'].num_examples)\n",
    "            .batch(BATCH_SIZE)\n",
    "            .prefetch(AUTO))\n",
    "\n",
    "ds_valid = (ds_valid_\n",
    "            .map(preprocess, AUTO)\n",
    "            .cache()\n",
    "            .shuffle(ds_info.splits['test'].num_examples)\n",
    "            .batch(BATCH_SIZE)\n",
    "            .prefetch(AUTO))"
   ]
  },
  {
   "cell_type": "code",
   "execution_count": null,
   "metadata": {},
   "outputs": [],
   "source": [
    "early_stopping = tf.keras.callbacks.EarlyStopping(patience=6, restore_best_weights=True)\n",
    "lr_schedule = tf.keras.callbacks.ReduceLROnPlateau(patience=2)\n",
    "\n",
    "EPOCHS = 100\n",
    "STEPS_PER_EPOCH = ds_info.splits['train'].num_examples // BATCH_SIZE\n",
    "\n",
    "history = model.fit(\n",
    "    ds_train,\n",
    "    validation_data=ds_valid,\n",
    "    epochs=EPOCHS,\n",
    "    steps_per_epoch=STEPS_PER_EPOCH,\n",
    "    callbacks=[early_stopping, lr_schedule],\n",
    ")\n",
    "\n",
    "history_frame = pd.DataFrame(history.history)\n",
    "history_frame.loc[:, ['loss', 'val_loss']].plot()\n",
    "history_frame.loc[:, ['binary_accuracy', 'val_accuracy']].plot();"
   ]
  },
  {
   "cell_type": "code",
   "execution_count": null,
   "metadata": {},
   "outputs": [],
   "source": [
    "model.save('minivgg-trained')"
   ]
  }
 ],
 "metadata": {
  "jupytext": {
   "formats": "ipynb,md",
   "split_at_heading": true
  },
  "kernelspec": {
   "display_name": "Python 3",
   "language": "python",
   "name": "python3"
  },
  "language_info": {
   "codemirror_mode": {
    "name": "ipython",
    "version": 3
   },
   "file_extension": ".py",
   "mimetype": "text/x-python",
   "name": "python",
   "nbconvert_exporter": "python",
   "pygments_lexer": "ipython3",
   "version": "3.7.6"
  }
 },
 "nbformat": 4,
 "nbformat_minor": 4
}
